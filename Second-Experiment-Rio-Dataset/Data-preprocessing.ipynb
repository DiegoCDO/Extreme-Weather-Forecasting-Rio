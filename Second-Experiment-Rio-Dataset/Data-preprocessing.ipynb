{
 "cells": [
  {
   "cell_type": "markdown",
   "id": "e9b4771f",
   "metadata": {},
   "source": [
    "# Data preprocessing"
   ]
  },
  {
   "cell_type": "markdown",
   "id": "a573db63",
   "metadata": {},
   "source": [
    "This Jupyter notebook contains a huge part of the preprocessing steps to read the dataset available in Rio. This Jupyter Notebook is used to generate usable CSV files from the AlertaRio's dataset."
   ]
  },
  {
   "cell_type": "code",
   "execution_count": null,
   "id": "d9ed1290",
   "metadata": {},
   "outputs": [],
   "source": [
    "import os\n",
    "import json\n",
    "import pandas as pd\n",
    "import re\n",
    "import numpy as np\n",
    "\n",
    "import subprocess\n",
    "\n",
    "from time import time\n",
    "from threading import Thread\n",
    "from threading import Lock"
   ]
  },
  {
   "cell_type": "markdown",
   "id": "33918bd4",
   "metadata": {},
   "source": [
    "## Unzipping archive\n",
    "\n",
    "The archives must be under data/archive and must not be renamed, the archive can be downloaded on the AlertaRio's [download page](http://alertario.rio.rj.gov.br/download/)."
   ]
  },
  {
   "cell_type": "code",
   "execution_count": null,
   "id": "aecbdfab",
   "metadata": {},
   "outputs": [],
   "source": [
    "os.system(\"bash extractor.bash\")"
   ]
  },
  {
   "cell_type": "markdown",
   "id": "96e6260d",
   "metadata": {},
   "source": [
    "## Preparation\n",
    "\n",
    "Preparing the CSV file creation step by creating some regular expression to manage filepath and moving in the directory that contains the data to extract."
   ]
  },
  {
   "cell_type": "code",
   "execution_count": null,
   "id": "cb0ed2ee",
   "metadata": {},
   "outputs": [],
   "source": [
    "os.chdir(\"data/input\")"
   ]
  },
  {
   "cell_type": "code",
   "execution_count": null,
   "id": "ba25b00f",
   "metadata": {
    "scrolled": true
   },
   "outputs": [],
   "source": [
    "pattern_path = re.compile(r'(\\w+$|(.+(\\/\\/|\\/))+)|(.+)')\n",
    "\n",
    "def get_path(path):\n",
    "    return pattern_path.sub(r'\\1', path)\n",
    "\n",
    "def get_file(path):\n",
    "    return pattern_path.sub(r'\\4', path)\n",
    "\n",
    "def create_path(path):\n",
    "    safe_path = get_path(path)\n",
    "    if not os.path.exists(safe_path):\n",
    "        os.makedirs(safe_path)\n",
    "\n",
    "print(get_path(\"SIMCosta_fsedsdfBoia\"))\n",
    "print(get_path(\"SIMCosta_fsedsdfBoia//\"))\n",
    "print(get_path(\"SIMCozfqzfrhyksta_Boia//SIsqdqzdMCosta_Boia//SIMCosta_fsedsdfBoia//\"))\n",
    "print(get_path(\"SIMCozfqzfrhyksta_Boia//SIsqdqzdMCosta_Boia//SIMCosta_fsedsdfBoia//SIMCOSTA_RJ-1_MET_2015-07-29_2016-10-13.csv\"))\n",
    "\n",
    "print(get_path(\"SIMCosta_fsedsdfBoia\"))\n",
    "print(get_path(\"SIMCosta_fsedsdfBoia/\"))\n",
    "print(get_path(\"SIMCozfqzfrhyksta_Boia/SIsqdqzdMCosta_Boia/SIMCosta_fsedsdfBoia/\"))\n",
    "print(get_path(\"SIMCozfqzfrhyksta_Boia/SIsqdqzdMCosta_Boia/SIMCosta_fsedsdfBoia/SIMCOSTA_RJ-1_MET_2015-07-29_2016-10-13.csv\"))\n",
    "\n",
    "\n",
    "print(get_file(\"SIMCosta_fsedsdfBoia\"))\n",
    "print(get_file(\"SIMCosta_fsedsdfBoia//\"))\n",
    "print(get_file(\"SIMCozfqzfrhyksta_Boia//SIsqdqzdMCosta_Boia//SIMCosta_fsedsdfBoia//\"))\n",
    "print(get_file(\"SIMCozfqzfrhyksta_Boia//SIsqdqzdMCosta_Boia//SIMCosta_fsedsdfBoia//SIMCOSTA_RJ-1_MET_2015-07-29_2016-10-13.csv\"))\n",
    "\n",
    "print(get_file(\"SIMCosta_fsedsdfBoia\"))\n",
    "print(get_file(\"SIMCosta_fsedsdfBoia/\"))\n",
    "print(get_file(\"SIMCozfqzfrhyksta_Boia/SIsqdqzdMCosta_Boia/SIMCosta_fsedsdfBoia/\"))\n",
    "print(get_file(\"SIMCozfqzfrhyksta_Boia/SIsqdqzdMCosta_Boia/SIMCosta_fsedsdfBoia/SIMCOSTA_RJ-1_MET_2015-07-29_2016-10-13.csv\"))"
   ]
  },
  {
   "cell_type": "markdown",
   "id": "213f6c16",
   "metadata": {},
   "source": [
    "## Pluviometric/rainfall station\n",
    "\n",
    "Checking if there is data to extract in the pluviometric station.\n",
    "\n",
    "List of the rainfall station currently in the data/input folder."
   ]
  },
  {
   "cell_type": "code",
   "execution_count": null,
   "id": "e32f6a49",
   "metadata": {
    "scrolled": true
   },
   "outputs": [],
   "source": [
    "pluv_station = !ls AlertaRio_DadosPluv | sort | sed \"s/\\([A-Za-z\\_]\\+\\)\\_[0-9]\\+\\_Plv\\.txt/\\1/g\" | uniq | sed \"/zip$/d\"\n",
    "len(pluv_station), pluv_station"
   ]
  },
  {
   "cell_type": "markdown",
   "id": "615f6763",
   "metadata": {},
   "source": [
    "Running the CSV generator on every rainfall station using multithreading."
   ]
  },
  {
   "cell_type": "code",
   "execution_count": null,
   "id": "f67425ff",
   "metadata": {
    "scrolled": false
   },
   "outputs": [],
   "source": [
    "h = pd.Timedelta(\"1h\")\n",
    "threaded = True\n",
    "\n",
    "def plv_station_generator(station, l):\n",
    "    l.acquire()\n",
    "    print(\"Starting : \", station)\n",
    "    l.release()\n",
    "\n",
    "    subprocess.run(rf\"bash ../../csv-generator.bash AlertaRio_DadosPluv/{station}\", shell=True)\n",
    "    \n",
    "    l.acquire()\n",
    "    print(\"Finishing : \", station)\n",
    "    l.release()\n",
    "\n",
    "timeS = time()\n",
    "lock = Lock()\n",
    "print(\"Starting\")\n",
    "\n",
    "if threaded:\n",
    "    \"\"\"Thread version\"\"\"\n",
    "    threads = []\n",
    "    for station in pluv_station[:]:\n",
    "        t = Thread(target=plv_station_generator, args=(station, lock))\n",
    "        threads.append(t)\n",
    "        t.start()\n",
    "    for t in threads:\n",
    "        t.join()\n",
    "else:\n",
    "    \"\"\"Iterable version\"\"\"\n",
    "    for station in pluv_station:\n",
    "        plv_station_generator(station, lock)\n",
    "\n",
    "print(time() - timeS)\n",
    "print(\"Complete\")"
   ]
  },
  {
   "cell_type": "markdown",
   "id": "45a58f8f",
   "metadata": {},
   "source": [
    "## Meteorological station\n",
    "\n",
    "Checking if there is data to extract in the meteorological station.\n",
    "\n",
    "List of the meteorological station currently in the data/input folder."
   ]
  },
  {
   "cell_type": "code",
   "execution_count": null,
   "id": "58a9cfc6",
   "metadata": {
    "scrolled": false
   },
   "outputs": [],
   "source": [
    "met_station = !ls AlertaRio_DadosMet | sort | sed \"s/\\([A-Za-z\\_]\\+\\)\\_[0-9]\\+\\_Met\\.txt/\\1/g\" | uniq | sed \"/zip$/d\"\n",
    "len(met_station), met_station"
   ]
  },
  {
   "cell_type": "markdown",
   "id": "2c6b880d",
   "metadata": {},
   "source": [
    "Running the CSV generator on every rainfall station using multithreading."
   ]
  },
  {
   "cell_type": "code",
   "execution_count": null,
   "id": "bb00d8e7",
   "metadata": {
    "scrolled": true
   },
   "outputs": [],
   "source": [
    "h = pd.Timedelta(\"1h\")\n",
    "threaded = True\n",
    "\n",
    "def met_station_generator(station, l):\n",
    "    l.acquire()\n",
    "    print(\"Starting : \", station)\n",
    "    l.release()\n",
    "\n",
    "    subprocess.run(rf\"bash ../../csv-generator.bash AlertaRio_DadosMet/{station}\", shell=True)\n",
    "    \n",
    "    l.acquire()\n",
    "    print(\"Finishing : \", station)\n",
    "    l.release()\n",
    "\n",
    "timeS = time()\n",
    "lock = Lock()\n",
    "print(\"Starting\")\n",
    "\n",
    "if threaded:\n",
    "    \"\"\"Thread version\"\"\"\n",
    "    threads = []\n",
    "    for station in met_station:\n",
    "        t = Thread(target=met_station_generator, args=(station, lock))\n",
    "        threads.append(t)\n",
    "        t.start()\n",
    "    for t in threads:\n",
    "        t.join()\n",
    "else:\n",
    "    \"\"\"Iterable version\"\"\"\n",
    "    for station in met_station:\n",
    "        met_station_generator(station, lock)\n",
    "        \n",
    "print(time() - timeS)\n",
    "print(\"Complete\")"
   ]
  }
 ],
 "metadata": {
  "kernelspec": {
   "display_name": "Python 3 (ipykernel)",
   "language": "python",
   "name": "python3"
  },
  "language_info": {
   "codemirror_mode": {
    "name": "ipython",
    "version": 3
   },
   "file_extension": ".py",
   "mimetype": "text/x-python",
   "name": "python",
   "nbconvert_exporter": "python",
   "pygments_lexer": "ipython3",
   "version": "3.10.12"
  },
  "varInspector": {
   "cols": {
    "lenName": 16,
    "lenType": 16,
    "lenVar": 40
   },
   "kernels_config": {
    "python": {
     "delete_cmd_postfix": "",
     "delete_cmd_prefix": "del ",
     "library": "var_list.py",
     "varRefreshCmd": "print(var_dic_list())"
    },
    "r": {
     "delete_cmd_postfix": ") ",
     "delete_cmd_prefix": "rm(",
     "library": "var_list.r",
     "varRefreshCmd": "cat(var_dic_list()) "
    }
   },
   "position": {
    "height": "144.844px",
    "left": "591px",
    "right": "20px",
    "top": "119px",
    "width": "350px"
   },
   "types_to_exclude": [
    "module",
    "function",
    "builtin_function_or_method",
    "instance",
    "_Feature"
   ],
   "window_display": true
  }
 },
 "nbformat": 4,
 "nbformat_minor": 5
}
