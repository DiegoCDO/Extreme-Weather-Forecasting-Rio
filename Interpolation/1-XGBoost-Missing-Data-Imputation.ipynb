{
 "cells": [
  {
   "cell_type": "markdown",
   "id": "a3db4f47",
   "metadata": {},
   "source": [
    "# Fill missing value with XGBoost\n",
    "\n",
    "In this Jupyter notebook XGBoost is used as a data imputer to see if its relevant to use it to fill missing data."
   ]
  },
  {
   "cell_type": "code",
   "execution_count": null,
   "id": "34012f4d",
   "metadata": {},
   "outputs": [],
   "source": [
    "import pandas as pd\n",
    "import numpy as np\n",
    "import sklearn as sk\n",
    "import matplotlib.pyplot as plt\n",
    "%matplotlib inline\n",
    "\n",
    "pd.set_option('display.max_columns', None)\n",
    "import xgboost as xgb\n",
    "\n",
    "from time import time"
   ]
  },
  {
   "cell_type": "markdown",
   "id": "1c053da8",
   "metadata": {},
   "source": [
    "## Loading the Dataset and features preparation"
   ]
  },
  {
   "cell_type": "markdown",
   "id": "94731302",
   "metadata": {},
   "source": [
    "### Dataset loading"
   ]
  },
  {
   "cell_type": "markdown",
   "id": "ef25241e",
   "metadata": {},
   "source": [
    "Loading the CSV file of the dataset."
   ]
  },
  {
   "cell_type": "code",
   "execution_count": null,
   "id": "30dec332",
   "metadata": {},
   "outputs": [],
   "source": [
    "original_data = pd.read_csv(\"PJME_hourly.csv\")"
   ]
  },
  {
   "cell_type": "markdown",
   "id": "bce195fe",
   "metadata": {},
   "source": [
    "Renaming the column of the dataset to make it simpler to manipulate, and sort the values by dates."
   ]
  },
  {
   "cell_type": "code",
   "execution_count": null,
   "id": "4a89c8bf",
   "metadata": {
    "scrolled": true
   },
   "outputs": [],
   "source": [
    "original_data[\"Datetime\"] = pd.to_datetime(original_data[\"Datetime\"])\n",
    "original_data.rename({\"Datetime\" : \"date\", \"PJME_MW\" : \"out\"}, axis=1, inplace=True)\n",
    "original_data.sort_values(\"date\", ascending=True, inplace=True, ignore_index=True)"
   ]
  },
  {
   "cell_type": "markdown",
   "id": "0bccef42",
   "metadata": {},
   "source": [
    "Remove duplicated value in the dataset (2 values for the same date, the first value is kept)"
   ]
  },
  {
   "cell_type": "code",
   "execution_count": null,
   "id": "e29770af",
   "metadata": {},
   "outputs": [],
   "source": [
    "original_data.set_index('date', inplace=True)\n",
    "pd.concat([original_data[original_data.index.duplicated(keep=\"first\") == True],\n",
    "          original_data[original_data.index.duplicated(keep=\"last\") == True]])\n",
    "original_data = original_data[~original_data.index.duplicated(keep='first')]\n",
    "original_data.reset_index(inplace=True)"
   ]
  },
  {
   "cell_type": "markdown",
   "id": "5db891cb",
   "metadata": {},
   "source": [
    "Set the date as index."
   ]
  },
  {
   "cell_type": "code",
   "execution_count": null,
   "id": "e212889b",
   "metadata": {},
   "outputs": [],
   "source": [
    "data_features = original_data.copy()\n",
    "\n",
    "data_features.set_index('date', inplace=True)"
   ]
  },
  {
   "cell_type": "markdown",
   "id": "5f95dc4e",
   "metadata": {},
   "source": [
    "### Features extraction"
   ]
  },
  {
   "cell_type": "markdown",
   "id": "928339c1",
   "metadata": {},
   "source": [
    "Extraction of the features from the date."
   ]
  },
  {
   "cell_type": "code",
   "execution_count": null,
   "id": "9b72183d",
   "metadata": {},
   "outputs": [],
   "source": [
    "def get_features(df):\n",
    "    out = df.copy()\n",
    "    out[\"hour\"] = out.index.hour\n",
    "    out[\"day\"] = out.index.day\n",
    "    out[\"month\"] = out.index.month\n",
    "    out[\"year\"] = out.index.year\n",
    "    \n",
    "    out['quarter'] = out.index.quarter\n",
    "    out['dayofyear'] = out.index.dayofyear\n",
    "    out['dayofmonth'] = out.index.day\n",
    "    \n",
    "    out['weekofyear'] = out.index.isocalendar().week.astype(np.int64)\n",
    "    return out\n",
    "\n",
    "data_features = get_features(data_features)"
   ]
  },
  {
   "cell_type": "markdown",
   "id": "102fe8fe",
   "metadata": {},
   "source": [
    "### Adding the N previous points for each point"
   ]
  },
  {
   "cell_type": "markdown",
   "id": "c169bbdc",
   "metadata": {},
   "source": [
    "For each point the previous point data is added to improve the prediction results (see the first experiment on XGBoost prediction)"
   ]
  },
  {
   "cell_type": "code",
   "execution_count": null,
   "id": "e1e4fbed",
   "metadata": {},
   "outputs": [],
   "source": [
    "def get_colums_names(column_names, N):\n",
    "    column_names = list(column_names)\n",
    "    names = []\n",
    "    for i in range(N, 0, -1):\n",
    "        for name in column_names:\n",
    "            names.append(name + str(i))\n",
    "    names.extend(column_names)\n",
    "    return names\n",
    "\n",
    "data_features.reset_index(inplace=True)\n",
    "all_available_features = list(data_features.columns)\n",
    "\n",
    "N = 2 # Number of points to predict future\n",
    "data_multiple = data_features.copy()\n",
    "\n",
    "for i in range(1, N):\n",
    "    data_multiple = pd.concat([data_multiple.iloc[:-1].reset_index(drop=True), data_features.iloc[i:].reset_index(drop=True)], axis=1)\n",
    "\n",
    "data_multiple = pd.concat([data_multiple.iloc[:-1].reset_index(drop=True), data_features.iloc[N:].reset_index(drop=True)], axis=1)\n",
    "\n",
    "data_multiple.columns = get_colums_names(all_available_features, N)\n",
    "data_multiple.set_index(\"date\", inplace=True)\n",
    "\n",
    "data_features.set_index(\"date\", inplace=True)"
   ]
  },
  {
   "cell_type": "markdown",
   "id": "d70299c6",
   "metadata": {},
   "source": [
    "### Training features"
   ]
  },
  {
   "cell_type": "markdown",
   "id": "129380a5",
   "metadata": {},
   "source": [
    "Creation of the training features list."
   ]
  },
  {
   "cell_type": "code",
   "execution_count": null,
   "id": "93da3c2c",
   "metadata": {},
   "outputs": [],
   "source": [
    "all_features = data_multiple.columns\n",
    "\n",
    "training_features_list = ['hour', 'day', 'month', 'year', 'quarter', 'dayofyear',\n",
    "       'dayofmonth', 'weekofyear', 'out']\n",
    "\n",
    "def is_training_feature(feature, training_features):\n",
    "    for training_feature in training_features:\n",
    "        if feature != \"out\" and \\\n",
    "        training_feature == feature[:len(training_feature)] and \\\n",
    "        (feature[len(training_feature):].isnumeric() or feature[len(training_feature):] == \"\"):\n",
    "            return True\n",
    "    return False\n",
    "\n",
    "training_features = list(filter(lambda x : is_training_feature(x, training_features_list), all_features))\n",
    "\n",
    "target = \"out\""
   ]
  },
  {
   "cell_type": "markdown",
   "id": "b88944c3",
   "metadata": {},
   "source": [
    "## Missing data imputation"
   ]
  },
  {
   "cell_type": "markdown",
   "id": "7a23874d",
   "metadata": {},
   "source": [
    "In this part we generate random missing data in the dataset and try to fill those using XGBoost."
   ]
  },
  {
   "cell_type": "markdown",
   "id": "26911c55",
   "metadata": {},
   "source": [
    "### Missing data generation"
   ]
  },
  {
   "cell_type": "markdown",
   "id": "8e699c1d",
   "metadata": {},
   "source": [
    "Getting the range of all the date that should be in the dataset."
   ]
  },
  {
   "cell_type": "code",
   "execution_count": null,
   "id": "14cafa09",
   "metadata": {},
   "outputs": [],
   "source": [
    "start_date = data_multiple.iloc[0].name\n",
    "end_date = data_multiple.iloc[-1].name\n",
    "\n",
    "dateRange = pd.date_range(start_date, end_date, freq='1h')\n",
    "# dateRange"
   ]
  },
  {
   "cell_type": "code",
   "execution_count": null,
   "id": "f565f3f7",
   "metadata": {
    "scrolled": false
   },
   "outputs": [],
   "source": [
    "data_gap = data_multiple.copy()"
   ]
  },
  {
   "cell_type": "markdown",
   "id": "589e00f0",
   "metadata": {},
   "source": [
    "Create missing data by removing random rows."
   ]
  },
  {
   "cell_type": "code",
   "execution_count": null,
   "id": "a441c040",
   "metadata": {
    "scrolled": true
   },
   "outputs": [],
   "source": [
    "h = pd.Timedelta(\"1h\")\n",
    "row_number = len(data_gap)\n",
    "\n",
    "def index_to_date(index_list):\n",
    "    index_list = list(index_list)\n",
    "    for i in range(len(index_list)):\n",
    "        index_list[i] = start_date + index_list[i] * h\n",
    "    return index_list\n",
    "\n",
    "N_missing_data = 30000\n",
    "\n",
    "index = index_to_date(np.random.randint(0, row_number, size=N_missing_data))\n",
    "data_gap.drop(index=index, inplace=True, errors='ignore')\n",
    "\n",
    "data_gap_filled = data_gap.copy()"
   ]
  },
  {
   "cell_type": "markdown",
   "id": "df8e3e74",
   "metadata": {},
   "source": [
    "### Training the model"
   ]
  },
  {
   "cell_type": "markdown",
   "id": "f9e09211",
   "metadata": {},
   "source": [
    "Partition generation."
   ]
  },
  {
   "cell_type": "code",
   "execution_count": null,
   "id": "130c262a",
   "metadata": {
    "scrolled": true
   },
   "outputs": [],
   "source": [
    "from sklearn.model_selection import train_test_split\n",
    "\n",
    "train, test = train_test_split(data_multiple, shuffle=False)\n",
    "# train"
   ]
  },
  {
   "cell_type": "markdown",
   "id": "bf8286c8",
   "metadata": {},
   "source": [
    "Creating and training the model."
   ]
  },
  {
   "cell_type": "code",
   "execution_count": null,
   "id": "40c51154",
   "metadata": {
    "scrolled": true
   },
   "outputs": [],
   "source": [
    "args = {\n",
    "    \"n_estimators\" : 1200,\n",
    "    \"learning_rate\" : 0.01\n",
    "}\n",
    "\n",
    "reg = xgb.XGBRegressor(tree_method=\"gpu_hist\",\n",
    "                       **args)\n",
    "\n",
    "t = time()\n",
    "reg.fit(data_gap_filled[training_features], data_gap_filled[target],\n",
    "        eval_set=[(data_gap_filled[training_features], data_gap_filled[target])],\n",
    "        verbose=100)\n",
    "print(time() - t)"
   ]
  },
  {
   "cell_type": "markdown",
   "id": "eca0e7f6",
   "metadata": {},
   "source": [
    "### Missing data filling"
   ]
  },
  {
   "cell_type": "markdown",
   "id": "5d5510f3",
   "metadata": {},
   "source": [
    "Fill the missing data using the XGBoost model."
   ]
  },
  {
   "cell_type": "code",
   "execution_count": null,
   "id": "dddf2bc3",
   "metadata": {},
   "outputs": [],
   "source": [
    "import re\n",
    "\n",
    "mapping_dict = {}\n",
    "for feature in all_available_features:\n",
    "    for i in range(N, 0, -1):\n",
    "        if (feature != \"date\") or i != 1:\n",
    "            mapping_dict[feature + str(i)] = feature + str(i-1) if i > 1 else feature\n",
    "# mapping_dict"
   ]
  },
  {
   "cell_type": "code",
   "execution_count": null,
   "id": "cd90da03",
   "metadata": {},
   "outputs": [],
   "source": [
    "t = time()\n",
    "\n",
    "new_df = pd.DataFrame(data_gap_filled, copy=False)\n",
    "new_df.drop(new_df.index, inplace=True)\n",
    "\n",
    "for dt in dateRange.difference(data_gap_filled.index):\n",
    "    last_row = data_gap_filled.loc[dt - h:dt - h].copy()\n",
    "    \n",
    "    if last_row.empty:\n",
    "        last_row = new_df.loc[dt - h:dt - h].copy()\n",
    "    new_row = last_row.copy()\n",
    "\n",
    "    for k in mapping_dict:\n",
    "        new_row[k] = new_row[mapping_dict[k]]\n",
    "\n",
    "    new_row['date1'] = new_row.index\n",
    "    new_row.index += h\n",
    "    new_row = get_features(new_row)\n",
    "    new_row['out'] = reg.predict(new_row[training_features])[0]\n",
    "\n",
    "    new_df = pd.concat([new_df, new_row])\n",
    "data_gap_filled = pd.concat([data_gap_filled, new_df])\n",
    "\n",
    "print(time() - t)\n",
    "data_gap_filled.loc[data_gap_filled['out'] == 0]"
   ]
  },
  {
   "cell_type": "markdown",
   "id": "2d8e20bf",
   "metadata": {},
   "source": [
    "Score of the training using the RMSE (Root Mean Square Error) metric."
   ]
  },
  {
   "cell_type": "code",
   "execution_count": null,
   "id": "57d0ca67",
   "metadata": {
    "scrolled": false
   },
   "outputs": [],
   "source": [
    "preds_train = reg.predict(train[training_features])\n",
    "preds_test = reg.predict(test[training_features])\n",
    "\n",
    "print(\"Training score:\", reg.score(train[training_features], train[target]))\n",
    "print(\"Testing score:\", reg.score(test[training_features], test[target]))"
   ]
  },
  {
   "cell_type": "markdown",
   "id": "ce32bb46",
   "metadata": {},
   "source": [
    "Visualizing the model performance."
   ]
  },
  {
   "cell_type": "code",
   "execution_count": null,
   "id": "c9219332",
   "metadata": {},
   "outputs": [],
   "source": [
    "data_gap_filled = data_gap_filled.asfreq('1h')"
   ]
  },
  {
   "cell_type": "code",
   "execution_count": null,
   "id": "1e346443",
   "metadata": {},
   "outputs": [],
   "source": [
    "period = '2018 05'\n",
    "\n",
    "fig, ax = plt.subplots(figsize=(15, 5))\n",
    "\n",
    "ax.set_title('Testing Data/Missing value generated')\n",
    "ax.plot(data_gap_filled.loc[period].index, data_gap_filled.loc[period, 'out'], alpha=0.7, color=\"blue\")\n",
    "ax.plot(data_multiple.loc[period].index, data_multiple.loc[period, 'out'], alpha=0.7, color=\"red\")\n",
    "ax.legend(['Prediction', 'Testing Set'])\n",
    "\n",
    "plt.show()"
   ]
  },
  {
   "cell_type": "markdown",
   "id": "2b17a41b",
   "metadata": {},
   "source": [
    "## Missing gaps"
   ]
  },
  {
   "cell_type": "markdown",
   "id": "163e181d",
   "metadata": {},
   "source": [
    "Before, the missing data were created using random index but in a real dataset the missing values might be multiple segment. So now the index will still be random but will be random segment of random size.\n",
    "\n",
    "Creating the partition for the training and testing."
   ]
  },
  {
   "cell_type": "markdown",
   "id": "baa9d7e9",
   "metadata": {},
   "source": [
    "### Gap generation"
   ]
  },
  {
   "cell_type": "markdown",
   "id": "52f7ed86",
   "metadata": {},
   "source": [
    "Generating sgment gaps"
   ]
  },
  {
   "cell_type": "code",
   "execution_count": null,
   "id": "84c3779b",
   "metadata": {
    "scrolled": true
   },
   "outputs": [],
   "source": [
    "data_gap = data_multiple.copy()\n",
    "data_gap\n",
    "\n",
    "row_number = len(data_gap)\n",
    "\n",
    "def seg_to_index(N_seg, Min, Max):\n",
    "    index_list = []\n",
    "\n",
    "    for i in range(N_seg):\n",
    "        size = np.random.randint(Min, Max)\n",
    "        index = np.random.randint(N, row_number)\n",
    "        \n",
    "        for i in range(size):\n",
    "            index_list.append(index + i)\n",
    "    \n",
    "    return index_list\n",
    "\n",
    "N_missing_segment = 30\n",
    "Min_size_segment = 50\n",
    "Max_size_segment = 300\n",
    "\n",
    "index = seg_to_index(N_missing_segment, Min_size_segment, Max_size_segment)\n",
    "date_index = index_to_date(index)\n",
    "data_gap.drop(index=date_index, inplace=True, errors='ignore')\n",
    "\n",
    "data_gap_filled = data_gap.copy()\n",
    "data_gap_filled\n",
    "data_gap_filled.info()"
   ]
  },
  {
   "cell_type": "markdown",
   "id": "26baa0c0",
   "metadata": {},
   "source": [
    "### Training the model"
   ]
  },
  {
   "cell_type": "code",
   "execution_count": null,
   "id": "8e24e180",
   "metadata": {},
   "outputs": [],
   "source": [
    "from time import time\n",
    "\n",
    "args = {\n",
    "    \"n_estimators\" : 1000,\n",
    "    \"base_score\" : 0.5,\n",
    "    \"max_depth\" : 6,\n",
    "    \"learning_rate\" : 0.01\n",
    "}\n",
    "\n",
    "reg = xgb.XGBRegressor(tree_method=\"gpu_hist\",\n",
    "                       **args)\n",
    "\n",
    "t = time()\n",
    "reg.fit(data_gap_filled[training_features], data_gap_filled[target],\n",
    "        eval_set=[(data_gap_filled[training_features], data_gap_filled[target])],\n",
    "        verbose=100)\n",
    "print(time() - t)"
   ]
  },
  {
   "cell_type": "markdown",
   "id": "5424c98f",
   "metadata": {},
   "source": [
    "### Predict the missing data"
   ]
  },
  {
   "cell_type": "code",
   "execution_count": null,
   "id": "4b1f1b5f",
   "metadata": {},
   "outputs": [],
   "source": [
    "import re\n",
    "\n",
    "mapping_dict = {}\n",
    "for feature in all_available_features:\n",
    "    for i in range(N, 0, -1):\n",
    "        if (feature != \"date\") or i != 1:\n",
    "            mapping_dict[feature + str(i)] = feature + str(i-1) if i > 1 else feature\n",
    "# mapping_dict"
   ]
  },
  {
   "cell_type": "code",
   "execution_count": null,
   "id": "c21650c7",
   "metadata": {},
   "outputs": [],
   "source": [
    "startDate = data_multiple.iloc[0].name\n",
    "endDate = data_multiple.iloc[-1].name\n",
    "\n",
    "dateRange = pd.date_range(startDate, endDate, freq='1h')\n",
    "\n",
    "dateRange.difference(data_gap_filled.index)"
   ]
  },
  {
   "cell_type": "code",
   "execution_count": null,
   "id": "deff5515",
   "metadata": {},
   "outputs": [],
   "source": [
    "h = pd.Timedelta(\"1h\")\n",
    "\n",
    "from time import time\n",
    "t = time()\n",
    "\n",
    "new_df = pd.DataFrame(data_gap_filled, copy=False)\n",
    "new_df.drop(new_df.index, inplace=True)\n",
    "\n",
    "for dt in dateRange.difference(data_gap_filled.index):\n",
    "    last_row = data_gap_filled.loc[dt - h:dt - h].copy()\n",
    "    \n",
    "    if last_row.empty:\n",
    "        last_row = new_df.loc[dt - h:dt - h].copy()\n",
    "    new_row = last_row.copy()\n",
    "\n",
    "    for k in mapping_dict:\n",
    "        new_row[k] = last_row[mapping_dict[k]]\n",
    "\n",
    "    new_row['date1'] = new_row.index\n",
    "    new_row.index += h\n",
    "    new_row = get_features(new_row)\n",
    "    new_row['out'] = reg.predict(new_row[training_features])[0]\n",
    "\n",
    "    new_df = pd.concat([new_df, new_row])\n",
    "data_gap_filled = pd.concat([data_gap_filled, new_df])\n",
    "\n",
    "print(time() - t)\n",
    "data_gap_filled.loc[data_gap_filled['out'] == 0]"
   ]
  },
  {
   "cell_type": "code",
   "execution_count": null,
   "id": "cbc01d46",
   "metadata": {},
   "outputs": [],
   "source": [
    "data_gap_filled = data_gap_filled.asfreq('1h')\n",
    "data_gap_filled.sort_index(inplace=True)"
   ]
  },
  {
   "cell_type": "markdown",
   "id": "d179222c",
   "metadata": {},
   "source": [
    "date_index contains dates where the data has been removed by a segment."
   ]
  },
  {
   "cell_type": "code",
   "execution_count": null,
   "id": "443df3db",
   "metadata": {
    "scrolled": true
   },
   "outputs": [],
   "source": [
    "period = date_index[0:120]\n",
    "\n",
    "fig, ax = plt.subplots(2, 1, figsize=(15, 10))\n",
    "\n",
    "ax[0].set_title('Testing Data/Missing value generated')\n",
    "ax[0].plot(data_gap_filled.loc[period].index, data_gap_filled.loc[period, 'out'], alpha=0.7, color=\"green\")\n",
    "ax[0].plot(data_multiple.loc[period].index, data_multiple.loc[period, 'out'], alpha=0.7, color=\"red\")\n",
    "ax[0].legend(['Prediction', 'Dataset'])\n",
    "\n",
    "\n",
    "ax[1].set_title('gap between pred and real value')\n",
    "ax[1].plot(data_gap_filled.loc[period].index, np.abs(data_gap_filled.loc[period, 'out'] - data_multiple.loc[period, 'out']))\n",
    "ax[1].legend(['gap length'])\n",
    "\n",
    "plt.show()"
   ]
  }
 ],
 "metadata": {
  "kernelspec": {
   "display_name": "Python 3 (ipykernel)",
   "language": "python",
   "name": "python3"
  },
  "language_info": {
   "codemirror_mode": {
    "name": "ipython",
    "version": 3
   },
   "file_extension": ".py",
   "mimetype": "text/x-python",
   "name": "python",
   "nbconvert_exporter": "python",
   "pygments_lexer": "ipython3",
   "version": "3.10.12"
  },
  "varInspector": {
   "cols": {
    "lenName": 16,
    "lenType": 16,
    "lenVar": 40
   },
   "kernels_config": {
    "python": {
     "delete_cmd_postfix": "",
     "delete_cmd_prefix": "del ",
     "library": "var_list.py",
     "varRefreshCmd": "print(var_dic_list())"
    },
    "r": {
     "delete_cmd_postfix": ") ",
     "delete_cmd_prefix": "rm(",
     "library": "var_list.r",
     "varRefreshCmd": "cat(var_dic_list()) "
    }
   },
   "types_to_exclude": [
    "module",
    "function",
    "builtin_function_or_method",
    "instance",
    "_Feature"
   ],
   "window_display": false
  }
 },
 "nbformat": 4,
 "nbformat_minor": 5
}
