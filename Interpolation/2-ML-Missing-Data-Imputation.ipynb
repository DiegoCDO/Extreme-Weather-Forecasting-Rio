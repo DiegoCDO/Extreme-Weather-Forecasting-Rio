{
 "cells": [
  {
   "cell_type": "markdown",
   "id": "f179c85f",
   "metadata": {},
   "source": [
    "# ML time series missing data imputation"
   ]
  },
  {
   "cell_type": "markdown",
   "id": "40898cce",
   "metadata": {},
   "source": [
    "This Jupyter Notebook contains multiple data imputation techniques that are natively implemented by sklearn and pandas."
   ]
  },
  {
   "cell_type": "markdown",
   "id": "ff334293",
   "metadata": {},
   "source": [
    "## Importing useful modules and packages"
   ]
  },
  {
   "cell_type": "code",
   "execution_count": null,
   "id": "fa78abb9",
   "metadata": {},
   "outputs": [],
   "source": [
    "import pandas as pd\n",
    "import numpy as np\n",
    "import sklearn as sk\n",
    "import matplotlib.pyplot as plt\n",
    "%matplotlib inline\n",
    "from time import time\n",
    "\n",
    "pd.set_option('display.max_columns', None)"
   ]
  },
  {
   "cell_type": "markdown",
   "id": "38032a38",
   "metadata": {},
   "source": [
    "## Importing the dataset\n",
    "\n",
    "Importation of the dataset, renaming columns and sorting the values by date."
   ]
  },
  {
   "cell_type": "code",
   "execution_count": null,
   "id": "f7241b5c",
   "metadata": {
    "scrolled": true
   },
   "outputs": [],
   "source": [
    "original_data = pd.read_csv(\"PJME_hourly.csv\")\n",
    "original_data[\"Datetime\"] = pd.to_datetime(original_data[\"Datetime\"])\n",
    "original_data.rename({\"Datetime\" : \"date\", \"PJME_MW\" : \"out\"}, axis=1, inplace=True)\n",
    "original_data.sort_values(\"date\", ascending=True, inplace=True, ignore_index=True)\n",
    "original_data.set_index(\"date\", inplace=True)"
   ]
  },
  {
   "cell_type": "markdown",
   "id": "1e5e6bb0",
   "metadata": {},
   "source": [
    "Removing dupplicated row (we keep the first one)"
   ]
  },
  {
   "cell_type": "code",
   "execution_count": null,
   "id": "16382bc2",
   "metadata": {},
   "outputs": [],
   "source": [
    "pd.concat([original_data[original_data.index.duplicated(keep=\"first\") == True],\n",
    "          original_data[original_data.index.duplicated(keep=\"last\") == True]])"
   ]
  },
  {
   "cell_type": "code",
   "execution_count": null,
   "id": "00ae7f46",
   "metadata": {},
   "outputs": [],
   "source": [
    "original_data = original_data[~original_data.index.duplicated(keep='first')]"
   ]
  },
  {
   "cell_type": "markdown",
   "id": "942ff948",
   "metadata": {},
   "source": [
    "## Checking for missing dates\n",
    "\n",
    "Checking for missing dates in the data set (date than have never been written, to add them with the value na). We want to have all the dates to have a frequency of 1H and being able to use imputation method of sklearn."
   ]
  },
  {
   "cell_type": "code",
   "execution_count": null,
   "id": "f8362af1",
   "metadata": {
    "scrolled": false
   },
   "outputs": [],
   "source": [
    "data_gap = original_data.copy()\n",
    "\n",
    "startDate = original_data.iloc[0].name\n",
    "endDate = original_data.iloc[-1].name\n",
    "\n",
    "dateRange = pd.date_range(startDate, endDate, freq='1h')\n",
    "h = pd.Timedelta(\"1h\")\n",
    "\n",
    "df_missing = pd.DataFrame(dateRange.difference(data_gap.index), columns=[\"date\"]).set_index(\"date\")\n",
    "df_missing['out'] = np.nan\n",
    "data_gap = pd.concat([data_gap, df_missing])\n",
    "data_gap['index'] = data_gap.reset_index().index\n",
    "data_gap.isna().sum()"
   ]
  },
  {
   "cell_type": "markdown",
   "id": "c22ec4b4",
   "metadata": {},
   "source": [
    "Making sure the data is sorted by date and with a frequency of 1h"
   ]
  },
  {
   "cell_type": "code",
   "execution_count": null,
   "id": "5460232c",
   "metadata": {},
   "outputs": [],
   "source": [
    "data_gap.sort_index(inplace=True)\n",
    "data_gap = data_gap.asfreq('1h')"
   ]
  },
  {
   "cell_type": "markdown",
   "id": "736eff2f",
   "metadata": {},
   "source": [
    "## Creating missing values\n",
    "\n",
    "We want to have missing values with large time window because there is large time window with missing data in the datasets provided by the the different sources of the project."
   ]
  },
  {
   "cell_type": "code",
   "execution_count": null,
   "id": "bb64c90d",
   "metadata": {
    "scrolled": true
   },
   "outputs": [],
   "source": [
    "row_number = len(data_gap)\n",
    "\n",
    "def index_to_date(index_list, start=startDate, end=endDate):\n",
    "    index_list = list(index_list)\n",
    "    for i in range(len(index_list)):\n",
    "        index_list[i] = startDate + index_list[i] * h\n",
    "    return index_list\n",
    "\n",
    "def date_to_index(date):\n",
    "    return (date - startDate) / h\n",
    "\n",
    "start_missing_date = pd.to_datetime(\"2007-05-01 01:00:00\")\n",
    "end_missing_date = pd.to_datetime(\"2007-05-07 23:00:00\")\n",
    "missing_data_interval = pd.date_range(start_missing_date, end_missing_date, freq='1h')\n",
    "N_missing_data = int(0.5 * ((end_missing_date - start_missing_date)/h))\n",
    "\n",
    "missing_index = index_to_date(np.random.randint(date_to_index(start_missing_date), date_to_index(end_missing_date), size=N_missing_data))\n",
    "data_gap.loc[:, 'gap'] = data_gap['out'].copy()\n",
    "data_gap.loc[missing_index, 'gap'] = np.nan"
   ]
  },
  {
   "cell_type": "code",
   "execution_count": null,
   "id": "3987e74a",
   "metadata": {
    "scrolled": true
   },
   "outputs": [],
   "source": [
    "row_number = len(data_gap)\n",
    "\n",
    "def index_to_date(index, start=startDate, end=endDate):\n",
    "    return startDate + index * h\n",
    "\n",
    "def date_to_index(date):\n",
    "    return (date - startDate) / h\n",
    "\n",
    "start_missing_date = pd.to_datetime(\"2007-05-01 01:00:00\")\n",
    "end_missing_date = pd.to_datetime(\"2007-05-07 23:00:00\")\n",
    "seg_len = 2\n",
    "nb_gap = 25\n",
    "missing_data_interval = pd.date_range(start_missing_date, end_missing_date, freq='1h')\n",
    "start_index = date_to_index(start_missing_date)\n",
    "end_index = date_to_index(end_missing_date)\n",
    "\n",
    "data_gap.loc[:, 'gap'] = data_gap['out'].copy()\n",
    "\n",
    "for _ in range(nb_gap):\n",
    "    seg_start = np.random.randint(start_index, end_index)\n",
    "    seg_stop = seg_start + seg_len\n",
    "    \n",
    "    seg_start_date = index_to_date(seg_start)\n",
    "    seg_stop_date = index_to_date(seg_stop)\n",
    "    \n",
    "    data_gap.loc[seg_start_date:seg_stop_date, 'gap'] = np.nan"
   ]
  },
  {
   "cell_type": "markdown",
   "id": "a0e1cf48",
   "metadata": {},
   "source": [
    "Visualisation of the missing data over one week"
   ]
  },
  {
   "cell_type": "code",
   "execution_count": null,
   "id": "2bf70257",
   "metadata": {
    "scrolled": false
   },
   "outputs": [],
   "source": [
    "plt.title(\"Creating missing values\")\n",
    "data_gap['2007 05 03':'2007 05 07']['gap'].plot(style=\"r\", alpha=1, linewidth=4)\n",
    "data_gap['2007 05 03':'2007 05 07']['out'].plot(style=\"b\", alpha=0.6)\n",
    "plt.legend([\"Data with missing values\", 'Real'])\n",
    "plt.xlabel(\"Date\")\n",
    "\n",
    "plt.show()"
   ]
  },
  {
   "cell_type": "markdown",
   "id": "28c777b3",
   "metadata": {},
   "source": [
    "## Creating date features"
   ]
  },
  {
   "cell_type": "markdown",
   "id": "bad29c58",
   "metadata": {},
   "source": [
    "Creating features that are usefull for some interpolation techniques."
   ]
  },
  {
   "cell_type": "code",
   "execution_count": null,
   "id": "5c22860e",
   "metadata": {
    "scrolled": true
   },
   "outputs": [],
   "source": [
    "def get_features(df):\n",
    "    out = df.copy()\n",
    "    out[\"hour\"] = out.index.hour\n",
    "    out[\"day\"] = out.index.day\n",
    "    out[\"month\"] = out.index.month\n",
    "    out[\"year\"] = out.index.year\n",
    "    \n",
    "    out['quarter'] = out.index.quarter\n",
    "    out['dayofyear'] = out.index.dayofyear\n",
    "    out['dayofmonth'] = out.index.day\n",
    "    \n",
    "    out['weekofyear'] = out.index.isocalendar().week.astype(np.int64)\n",
    "    return out\n",
    "\n",
    "data_gap = get_features(data_gap)\n",
    "data_gap"
   ]
  },
  {
   "cell_type": "markdown",
   "id": "4300ed00",
   "metadata": {},
   "source": [
    "## Imputation"
   ]
  },
  {
   "cell_type": "markdown",
   "id": "cd33fa88",
   "metadata": {},
   "source": [
    "Importing the sklearn imputer and initializing those that are experimentals. And creating the targets/features used for the imputation. Those are the features that will be used to fill the missing data and also the features where the missing data will be checked to be imputed."
   ]
  },
  {
   "cell_type": "code",
   "execution_count": null,
   "id": "105a0364",
   "metadata": {},
   "outputs": [],
   "source": [
    "from sklearn.experimental import enable_iterative_imputer # The implementation of some imputer are experimentals\n",
    "from sklearn.impute import IterativeImputer, KNNImputer, \\\n",
    "                            MissingIndicator, SimpleImputer\n",
    "target = ['gap', 'index', 'hour', 'day', 'month', 'year', 'quarter', 'dayofyear', 'dayofmonth', 'weekofyear']\n",
    "target = ['gap', 'index']\n",
    "\n",
    "data_gap['index'] = data_gap.reset_index().index"
   ]
  },
  {
   "cell_type": "code",
   "execution_count": null,
   "id": "60d67f3e",
   "metadata": {},
   "outputs": [],
   "source": [
    "period1 = '2007 05 03'\n",
    "period2 = '2007 05 07'"
   ]
  },
  {
   "cell_type": "markdown",
   "id": "aa9284cb",
   "metadata": {},
   "source": [
    "### Simple Imputer"
   ]
  },
  {
   "cell_type": "markdown",
   "id": "be9de1d6",
   "metadata": {},
   "source": [
    "The single imputer is computing the mean and using it to fill the missing values, as you can guess it is bad for time series forecasting."
   ]
  },
  {
   "cell_type": "code",
   "execution_count": null,
   "id": "76b46511",
   "metadata": {},
   "outputs": [],
   "source": [
    "simple_imputer = SimpleImputer()\n",
    "simple_imputer.set_output(transform=\"pandas\")\n",
    "data_gap['simple'] = simple_imputer.fit_transform(data_gap.loc[period1:period2, target])['gap']"
   ]
  },
  {
   "cell_type": "code",
   "execution_count": null,
   "id": "d637f3db",
   "metadata": {
    "scrolled": true
   },
   "outputs": [],
   "source": [
    "plt.title(\"Gap filled with simple imputer\")\n",
    "data_gap[period1:period2]['out'].plot(style=\"b\", alpha=1, linewidth=4)\n",
    "data_gap[period1:period2]['simple'].plot(style=\"r\", alpha=0.6)\n",
    "plt.legend([\"Real\", 'Missing values filled'])\n",
    "plt.xlabel(\"Date\")\n",
    "\n",
    "plt.show()"
   ]
  },
  {
   "cell_type": "markdown",
   "id": "7ef10c8f",
   "metadata": {},
   "source": [
    "### Iterative imputer"
   ]
  },
  {
   "cell_type": "markdown",
   "id": "b29fde50",
   "metadata": {},
   "source": [
    "The single imputer is computing the mean of the similar row (row with similar features values) and using it to fill the missing values, as you can guess it is bad for time series forecasting. This mean the result may vary depending on the choosen target."
   ]
  },
  {
   "cell_type": "code",
   "execution_count": null,
   "id": "71a1079e",
   "metadata": {},
   "outputs": [],
   "source": [
    "ite_imputer = IterativeImputer(initial_strategy='median')\n",
    "ite_imputer.set_output(transform=\"pandas\")\n",
    "data_gap['Iterative'] = ite_imputer.fit_transform(data_gap.loc[period1:period2, target])['gap']"
   ]
  },
  {
   "cell_type": "code",
   "execution_count": null,
   "id": "e80eb033",
   "metadata": {
    "scrolled": false
   },
   "outputs": [],
   "source": [
    "plt.title(\"Gap filled with iterative imputer\")\n",
    "data_gap[period1:period2]['out'].plot(style=\"b\", alpha=1, linewidth=4)\n",
    "data_gap[period1:period2]['Iterative'].plot(style=\"r\", alpha=0.6)\n",
    "plt.legend([\"Real\", 'Missing values filled'])\n",
    "plt.xlabel(\"Date\")\n",
    "\n",
    "plt.show()"
   ]
  },
  {
   "cell_type": "markdown",
   "id": "a6f913a9",
   "metadata": {},
   "source": [
    "### KNNImputer"
   ]
  },
  {
   "cell_type": "markdown",
   "id": "cbbb198c",
   "metadata": {},
   "source": [
    "The KNNImputer known as K-Nearest Neighbors imputer is using the features to define which rows are close on fill the missing value using the K closest values. It is possible to use KNNImputer with customs weights and metric to improve the results to our dataset. However, only the native metrics and weights are used below."
   ]
  },
  {
   "cell_type": "code",
   "execution_count": null,
   "id": "45e6f0c6",
   "metadata": {},
   "outputs": [],
   "source": [
    "n_neighbors = 10"
   ]
  },
  {
   "cell_type": "code",
   "execution_count": null,
   "id": "ef9b9d0a",
   "metadata": {},
   "outputs": [],
   "source": [
    "knn_imputer_unif = KNNImputer(n_neighbors=n_neighbors, weights=\"uniform\")\n",
    "knn_imputer_unif.set_output(transform=\"pandas\")\n",
    "data_gap['KNN_unif'] = knn_imputer_unif.fit_transform(data_gap.loc[period1:period2, target])['gap']"
   ]
  },
  {
   "cell_type": "code",
   "execution_count": null,
   "id": "8ab89e33",
   "metadata": {},
   "outputs": [],
   "source": [
    "knn_imputer_dist = KNNImputer(n_neighbors=n_neighbors, weights=\"distance\")\n",
    "knn_imputer_dist.set_output(transform=\"pandas\")\n",
    "data_gap['KNN_dist'] = knn_imputer_dist.fit_transform(data_gap.loc[period1:period2, target])['gap']"
   ]
  },
  {
   "cell_type": "code",
   "execution_count": null,
   "id": "18a9ef1f",
   "metadata": {},
   "outputs": [],
   "source": [
    "fig, ax = plt.subplots(3, 1, figsize=(15, 5*4), sharex=True)\n",
    "\n",
    "data_gap[period1:period2]['out'].plot(ax=ax[0], style=\"b\", alpha=1, linewidth=3)\n",
    "data_gap[period1:period2]['KNN_unif'].plot(ax=ax[0], style=\"r\", alpha=0.6)\n",
    "data_gap[period1:period2]['KNN_dist'].plot(ax=ax[0], style=\"g\", alpha=0.6)\n",
    "ax[0].legend([\"Real\", 'Uniform', 'Distance', 'Custom'])\n",
    "ax[0].set_title(\"Filling missing values using uniform and distance distribution\")\n",
    "\n",
    "data_gap[period1:period2]['out'].plot(ax=ax[1], style=\"b\", alpha=1, linewidth=3)\n",
    "data_gap[period1:period2]['KNN_dist'].plot(ax=ax[1], style=\"r\", alpha=0.6)\n",
    "ax[1].legend([\"Real\", 'Missing values filled'])\n",
    "ax[1].set_title(\"Filling missing values using a distance distribution\")\n",
    "\n",
    "data_gap[period1:period2]['out'].plot(ax=ax[2], style=\"b\", alpha=1, linewidth=3)\n",
    "data_gap[period1:period2]['KNN_unif'].plot(ax=ax[2], style=\"r\", alpha=0.6)\n",
    "ax[2].legend([\"Real\", 'Missing values filled'])\n",
    "ax[2].set_title(\"Filling missing values using uniform distribution\")\n",
    "\n",
    "plt.legend([\"Real\", 'Missing values filled'])\n",
    "plt.title(\"Gap filled with KNN imputer\")\n",
    "plt.show()"
   ]
  },
  {
   "cell_type": "markdown",
   "id": "898e19ab",
   "metadata": {},
   "source": [
    "### Pandas imputation\n",
    "\n",
    "#### Forward fill (ffill)"
   ]
  },
  {
   "cell_type": "markdown",
   "id": "10fa5b26",
   "metadata": {},
   "source": [
    "The forward fill method of pandas allow the user to \"propagate last valid observation forward to next valid\". This is a bad method for time series when the length of the missing values is long."
   ]
  },
  {
   "cell_type": "code",
   "execution_count": null,
   "id": "0ac44a14",
   "metadata": {
    "scrolled": true
   },
   "outputs": [],
   "source": [
    "data_gap['pandas_ffill'] = data_gap['gap'].copy()\n",
    "data_gap['pandas_ffill'] = data_gap['pandas_ffill'].fillna(method='ffill')"
   ]
  },
  {
   "cell_type": "code",
   "execution_count": null,
   "id": "89fea2c3",
   "metadata": {
    "scrolled": true
   },
   "outputs": [],
   "source": [
    "data_gap[period1:period2]['out'].plot(style=\"b\", alpha=1, linewidth=4)\n",
    "data_gap[period1:period2]['pandas_ffill'].plot(style=\"r\", alpha=0.6)\n",
    "plt.legend([\"Real\", 'Missing values filled'])\n",
    "plt.title(\"Filling missing values using forward filling\")\n",
    "plt.xlabel(\"Date\")\n",
    "\n",
    "plt.show()"
   ]
  },
  {
   "cell_type": "markdown",
   "id": "562d3687",
   "metadata": {},
   "source": [
    "#### Backward fill (bfill)"
   ]
  },
  {
   "cell_type": "markdown",
   "id": "edbff057",
   "metadata": {},
   "source": [
    "The backward fill method of pandas allow the user to \"use next valid observation to fill gap\". This is a bad method for time series when the length of the missing values is long."
   ]
  },
  {
   "cell_type": "code",
   "execution_count": null,
   "id": "7935eaa6",
   "metadata": {
    "scrolled": true
   },
   "outputs": [],
   "source": [
    "data_gap['pandas_bfill'] = data_gap['gap'].copy()\n",
    "data_gap['pandas_bfill'] = data_gap['pandas_bfill'].fillna(method='bfill')"
   ]
  },
  {
   "cell_type": "code",
   "execution_count": null,
   "id": "ea4c067e",
   "metadata": {
    "scrolled": true
   },
   "outputs": [],
   "source": [
    "data_gap[period1:period2]['out'].plot(style=\"b\", alpha=1, linewidth=4)\n",
    "data_gap[period1:period2]['pandas_bfill'].plot(style=\"r\", alpha=0.6)\n",
    "plt.legend([\"Real\", 'Missing values filled'])\n",
    "plt.xlabel(\"Date\")\n",
    "plt.title(\"Filling missing values using backward filling\")\n",
    "\n",
    "plt.show()"
   ]
  },
  {
   "cell_type": "markdown",
   "id": "4047a5ed",
   "metadata": {},
   "source": [
    "### Pandas interpolate\n",
    "\n",
    "In this section the following interpolating method of pandas are used :\n",
    "\n",
    "- linear\n",
    "- polynomial"
   ]
  },
  {
   "cell_type": "markdown",
   "id": "731f8cb2",
   "metadata": {},
   "source": [
    "#### Linear"
   ]
  },
  {
   "cell_type": "markdown",
   "id": "845aabbe",
   "metadata": {},
   "source": [
    "A linear regression is a way of imputing missing data by drawing a line between 2 known points and affect the values of the line to the missing points."
   ]
  },
  {
   "cell_type": "code",
   "execution_count": null,
   "id": "471eef64",
   "metadata": {
    "scrolled": true
   },
   "outputs": [],
   "source": [
    "data_gap['pandas_linear'] = data_gap['gap'].copy()\n",
    "data_gap['pandas_linear'] = data_gap['pandas_linear'][period1:period2].interpolate(method='linear')"
   ]
  },
  {
   "cell_type": "code",
   "execution_count": null,
   "id": "b7a343b2",
   "metadata": {
    "scrolled": false
   },
   "outputs": [],
   "source": [
    "data_gap[period1:period2]['out'].plot(style=\"b\", alpha=1, linewidth=4)\n",
    "data_gap[period1:period2]['pandas_linear'].plot(style=\"r\", alpha=0.6)\n",
    "plt.legend([\"Data\", 'Linear interpolation values'])\n",
    "plt.title(\"Linear interpolation\")\n",
    "\n",
    "plt.show()"
   ]
  },
  {
   "cell_type": "markdown",
   "id": "99a97c60",
   "metadata": {},
   "source": [
    "#### Polynomial\n",
    "\n",
    "A polynomial interpolation is a way of fitting a polynom of a given order to the known data to then impute the missing ones."
   ]
  },
  {
   "cell_type": "code",
   "execution_count": null,
   "id": "b87d35c3",
   "metadata": {
    "scrolled": false
   },
   "outputs": [],
   "source": [
    "orders = range(3, 8, 2)\n",
    "\n",
    "plt.plot(data_gap[period1:period2]['out'], color=\"b\", alpha=1, linewidth=4)\n",
    "\n",
    "legends = [\"Real\"]\n",
    "\n",
    "for order in orders:\n",
    "    data_gap['pandas_polynomial_' + str(order)] = data_gap['gap'].copy()\n",
    "    data_gap['pandas_polynomial_' + str(order)] = data_gap['pandas_polynomial_' + str(order)][period1:period2].interpolate(method='polynomial', order=order)\n",
    "\n",
    "\n",
    "    plt.plot(data_gap[period1:period2]['pandas_polynomial_' + str(order)], alpha=1, linewidth=1)\n",
    "    legends.append(\"Order \" + str(order))\n",
    "\n",
    "plt.title(\"Gap filled with pandas polynomial interpolation\")\n",
    "plt.legend([\"Real\"] + list(orders))\n",
    "plt.xlabel(\"Date\")\n",
    "\n",
    "plt.show()"
   ]
  },
  {
   "cell_type": "code",
   "execution_count": null,
   "id": "14f851b8",
   "metadata": {},
   "outputs": [],
   "source": [
    "orders = range(3, 16, 2)\n",
    "\n",
    "fig, ax = plt.subplots(len(orders) + 1, 1, figsize=(15, 5*len(orders)), sharex=True)\n",
    "data_gap[period1:period2]['out'].plot(ax=ax[0], style=\"b\", alpha=1, linewidth=3)\n",
    "\n",
    "i = 1\n",
    "for order in orders:\n",
    "    data_gap['pandas_polynomial_' + str(order)] = data_gap['gap'].copy()\n",
    "    data_gap['pandas_polynomial_' + str(order)] = data_gap['pandas_polynomial_' + str(order)].interpolate(method='polynomial', order=order)\n",
    "    \n",
    "    # Print all\n",
    "    data_gap[period1:period2]['pandas_polynomial_' + str(order)].plot(ax=ax[0], alpha=1, linewidth=1)\n",
    "    \n",
    "    # Print only new graph\n",
    "    data_gap[period1:period2]['out'].plot(ax=ax[i], style=\"b\", alpha=1, linewidth=3)\n",
    "    data_gap[period1:period2]['pandas_polynomial_' + str(order)].plot(ax=ax[i], style=\"r\", alpha=0.6)\n",
    "    ax[i].legend([\"Real\", 'Missing values filled'])\n",
    "    ax[i].set_title(\"Gap filled with pandas polynomial interpolation and order = \" + str(order))\n",
    "    i += 1\n",
    "ax[0].legend([\"Real\"] + list(orders))\n",
    "\n",
    "plt.tight_layout()\n",
    "plt.show()"
   ]
  }
 ],
 "metadata": {
  "kernelspec": {
   "display_name": "Python 3 (ipykernel)",
   "language": "python",
   "name": "python3"
  },
  "language_info": {
   "codemirror_mode": {
    "name": "ipython",
    "version": 3
   },
   "file_extension": ".py",
   "mimetype": "text/x-python",
   "name": "python",
   "nbconvert_exporter": "python",
   "pygments_lexer": "ipython3",
   "version": "3.10.12"
  },
  "varInspector": {
   "cols": {
    "lenName": 16,
    "lenType": 16,
    "lenVar": 40
   },
   "kernels_config": {
    "python": {
     "delete_cmd_postfix": "",
     "delete_cmd_prefix": "del ",
     "library": "var_list.py",
     "varRefreshCmd": "print(var_dic_list())"
    },
    "r": {
     "delete_cmd_postfix": ") ",
     "delete_cmd_prefix": "rm(",
     "library": "var_list.r",
     "varRefreshCmd": "cat(var_dic_list()) "
    }
   },
   "types_to_exclude": [
    "module",
    "function",
    "builtin_function_or_method",
    "instance",
    "_Feature"
   ],
   "window_display": true
  }
 },
 "nbformat": 4,
 "nbformat_minor": 5
}
